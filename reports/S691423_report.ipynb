{
  "cells": [
    {
      "cell_type": "markdown",
      "source": [
        "# D-Optimal Online Experiment Design for Recommender Selection\n",
        "\n",
        "## Executive summary\n",
        "\n",
        "| Problem | Traditional A/B testing method for model selection is slow and costly. |\n",
        "| --- | --- |\n",
        "| Hypothesis | Selecting the optimal recommender via online exploration-exploitation is better than the traditional A/B testing, as this traditional method can be slow and costly, and offline evaluations are prone to the bias of history data. |\n",
        "| Solution | Leverage the D-optimal design from the classical statistics literature to achieve the maximum information gain during exploration. Data-generating mechanism - In the beginning stage, 10% of the full data is selected as the training data to fit the candidate recommendation models, and the rest of the data is treated as the testing set which generates the interaction data adaptively. The procedure can be described as follow. In each epoch, we recommend one item to each user. If the item has received a non-zero rating from that particular user in the testing data, we move it to the training data and endow it with a positive label if the rating is high, e.g. ≥ 3 under the five-point scale. Otherwise, we add the item to the rejection list and will not recommend it to this user again. After each epoch, we retrain the candidate models with both the past and the newly collected data. Candidate models - user-based CF, item-based CF, ItemPop, MF. |\n",
        "| Tags | OnlineEvaluation, MultiArmedBandit, MovieLens, Simulation |\n",
        "\n",
        "---\n",
        "\n",
        "## Tutorial\n",
        "\n",
        "![https://github.com/RecoHut-Stanzas/S691423/raw/main/images/process_flow_main.svg](https://github.com/RecoHut-Stanzas/S691423/raw/main/images/process_flow_main.svg)\n",
        "\n",
        "**Dataset:** MovieLens-1m\n",
        "\n",
        "**Preprocessing:** The movie ratings are binarized to {0, 1}, i.e. ≥ 2.5 or < 2.5, and we use the metadata of movies and users as the contextual information for the reward model. In particular, we perform the one-hot transformation for the categorical data to obtain the feature mappings 𝝓(·). For text features such as movie title, we train a word embedding model with 50 dimensions. The final representation is obtained by concatenating all the one-hot encoding and embedding.\n",
        "\n",
        "**Evaluation Metric:** Cumulative Recall (the ratio of the total number of successful recommendations (up to the current epoch) against the total number of positive rating in the testing data).\n",
        "\n",
        "**Cluster:** Platform - Python 3, Lib - gensim, acgan.\n",
        "\n",
        "Link: [Jupyter Notebook](https://github.com/RecoHut-Stanzas/S691423/blob/main/nbs/T687861_D_Optimal_Online_Experiment_Design_for_Recommender_Selection.ipynb)\n",
        "\n",
        "## Online Recsys Model Selection Process\n",
        "\n",
        "![Untitled](https://github.com/RecoHut-Stanzas/S691423/raw/main/images/img0.png)\n",
        "\n",
        "![Untitled](https://github.com/RecoHut-Stanzas/S691423/raw/main/images/img1.png)\n",
        "\n",
        "## System designs\n",
        "\n",
        "### High-level overview of the system bandit service\n",
        "\n",
        "![High-level overview of the system bandit service.](https://github.com/RecoHut-Stanzas/S691423/raw/main/images/img2.png)\n",
        "\n",
        "High-level overview of the system bandit service.\n",
        "\n",
        "### Proposed design\n",
        "\n",
        "![The deployment details of the optimal online experiment design for recommender selection.](https://github.com/RecoHut-Stanzas/S691423/raw/main/images/img3.png)\n",
        "\n",
        "The deployment details of the optimal online experiment design for recommender selection.\n",
        "\n",
        "## References\n",
        "\n",
        "1. [Paper (arXiv)](https://arxiv.org/abs/2110.12132v1)\n",
        "2. [Repo (git)](https://github.com/RecoHut-Stanzas/S691423)"
      ],
      "metadata": {
        "id": "lIYdn1woOS1n"
      }
    }
  ],
  "metadata": {
    "colab": {
      "name": "scratchpad",
      "provenance": []
    },
    "kernelspec": {
      "display_name": "Python 3",
      "name": "python3"
    }
  },
  "nbformat": 4,
  "nbformat_minor": 0
}